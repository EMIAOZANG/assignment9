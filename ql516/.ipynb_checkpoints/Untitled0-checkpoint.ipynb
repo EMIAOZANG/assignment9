{
 "metadata": {
  "name": "",
  "signature": "sha256:39375c1cf7cd28cd1d18b8c5c9be98dc7d7ae299785ed0c6d7d9df406734a5cc"
 },
 "nbformat": 3,
 "nbformat_minor": 0,
 "worksheets": [
  {
   "cells": [
    {
     "cell_type": "code",
     "collapsed": false,
     "input": [
      "import numpy as np\n",
      "import pandas as pd\n",
      "import matplotlib.pyplot as plt"
     ],
     "language": "python",
     "metadata": {},
     "outputs": [],
     "prompt_number": 26
    },
    {
     "cell_type": "code",
     "collapsed": false,
     "input": [
      "countries = pd.read_csv(\"../countries.csv\")"
     ],
     "language": "python",
     "metadata": {},
     "outputs": [],
     "prompt_number": 27
    },
    {
     "cell_type": "code",
     "collapsed": false,
     "input": [
      "income = pd.read_excel(\"indicator gapminder gdp_per_capita_ppp.xlsx\",index_col=u\"gdp pc test\")\n",
      "income = income.T"
     ],
     "language": "python",
     "metadata": {},
     "outputs": [],
     "prompt_number": 28
    },
    {
     "cell_type": "code",
     "collapsed": false,
     "input": [
      "income.head()"
     ],
     "language": "python",
     "metadata": {},
     "outputs": [
      {
       "html": [
        "<div style=\"max-height:1000px;max-width:1500px;overflow:auto;\">\n",
        "<table border=\"1\" class=\"dataframe\">\n",
        "  <thead>\n",
        "    <tr style=\"text-align: right;\">\n",
        "      <th>gdp pc test</th>\n",
        "      <th>Abkhazia</th>\n",
        "      <th>Afghanistan</th>\n",
        "      <th>Akrotiri and Dhekelia</th>\n",
        "      <th>Albania</th>\n",
        "      <th>Algeria</th>\n",
        "      <th>American Samoa</th>\n",
        "      <th>Andorra</th>\n",
        "      <th>Angola</th>\n",
        "      <th>Anguilla</th>\n",
        "      <th>Antigua and Barbuda</th>\n",
        "      <th>...</th>\n",
        "      <th>Western Sahara</th>\n",
        "      <th>Vietnam</th>\n",
        "      <th>Virgin Islands (U.S.)</th>\n",
        "      <th>Yemen Arab Republic (Former)</th>\n",
        "      <th>Yemen Democratic (Former)</th>\n",
        "      <th>Yemen, Rep.</th>\n",
        "      <th>Yugoslavia</th>\n",
        "      <th>Zambia</th>\n",
        "      <th>Zimbabwe</th>\n",
        "      <th>\u00c5land</th>\n",
        "    </tr>\n",
        "  </thead>\n",
        "  <tbody>\n",
        "    <tr>\n",
        "      <th>1800</th>\n",
        "      <td>NaN</td>\n",
        "      <td> 472.0535</td>\n",
        "      <td>NaN</td>\n",
        "      <td> 601.215222</td>\n",
        "      <td> 766.253664</td>\n",
        "      <td> 674.453726</td>\n",
        "      <td> 1260.123256</td>\n",
        "      <td> 359.932582</td>\n",
        "      <td> 775.668711</td>\n",
        "      <td> 538.376199</td>\n",
        "      <td>...</td>\n",
        "      <td>NaN</td>\n",
        "      <td> 459.708986</td>\n",
        "      <td>NaN</td>\n",
        "      <td>NaN</td>\n",
        "      <td>NaN</td>\n",
        "      <td> 661.902376</td>\n",
        "      <td>NaN</td>\n",
        "      <td> 364.464811</td>\n",
        "      <td> 372.818338</td>\n",
        "      <td>NaN</td>\n",
        "    </tr>\n",
        "    <tr>\n",
        "      <th>1801</th>\n",
        "      <td>NaN</td>\n",
        "      <td> 472.0535</td>\n",
        "      <td>NaN</td>\n",
        "      <td> 601.839631</td>\n",
        "      <td> 766.234779</td>\n",
        "      <td> 674.453726</td>\n",
        "      <td> 1262.214402</td>\n",
        "      <td> 359.932582</td>\n",
        "      <td> 775.668711</td>\n",
        "      <td> 538.376199</td>\n",
        "      <td>...</td>\n",
        "      <td>NaN</td>\n",
        "      <td> 459.708986</td>\n",
        "      <td>NaN</td>\n",
        "      <td>NaN</td>\n",
        "      <td>NaN</td>\n",
        "      <td> 662.058563</td>\n",
        "      <td>NaN</td>\n",
        "      <td> 364.464811</td>\n",
        "      <td> 372.818338</td>\n",
        "      <td>NaN</td>\n",
        "    </tr>\n",
        "    <tr>\n",
        "      <th>1802</th>\n",
        "      <td>NaN</td>\n",
        "      <td> 472.0535</td>\n",
        "      <td>NaN</td>\n",
        "      <td> 602.464688</td>\n",
        "      <td> 766.215895</td>\n",
        "      <td> 674.453726</td>\n",
        "      <td> 1264.309018</td>\n",
        "      <td> 359.932582</td>\n",
        "      <td> 775.668711</td>\n",
        "      <td> 538.376199</td>\n",
        "      <td>...</td>\n",
        "      <td>NaN</td>\n",
        "      <td> 459.708986</td>\n",
        "      <td>NaN</td>\n",
        "      <td>NaN</td>\n",
        "      <td>NaN</td>\n",
        "      <td> 662.214787</td>\n",
        "      <td>NaN</td>\n",
        "      <td> 364.464811</td>\n",
        "      <td> 372.818338</td>\n",
        "      <td>NaN</td>\n",
        "    </tr>\n",
        "    <tr>\n",
        "      <th>1803</th>\n",
        "      <td>NaN</td>\n",
        "      <td> 472.0535</td>\n",
        "      <td>NaN</td>\n",
        "      <td> 603.090394</td>\n",
        "      <td> 766.197011</td>\n",
        "      <td> 674.453726</td>\n",
        "      <td> 1266.407109</td>\n",
        "      <td> 359.932582</td>\n",
        "      <td> 775.668711</td>\n",
        "      <td> 538.376199</td>\n",
        "      <td>...</td>\n",
        "      <td>NaN</td>\n",
        "      <td> 459.708986</td>\n",
        "      <td>NaN</td>\n",
        "      <td>NaN</td>\n",
        "      <td>NaN</td>\n",
        "      <td> 662.371047</td>\n",
        "      <td>NaN</td>\n",
        "      <td> 364.464811</td>\n",
        "      <td> 372.818338</td>\n",
        "      <td>NaN</td>\n",
        "    </tr>\n",
        "    <tr>\n",
        "      <th>1804</th>\n",
        "      <td>NaN</td>\n",
        "      <td> 472.0535</td>\n",
        "      <td>NaN</td>\n",
        "      <td> 603.716751</td>\n",
        "      <td> 766.178127</td>\n",
        "      <td> 674.453726</td>\n",
        "      <td> 1268.508683</td>\n",
        "      <td> 359.932582</td>\n",
        "      <td> 775.668711</td>\n",
        "      <td> 538.376199</td>\n",
        "      <td>...</td>\n",
        "      <td>NaN</td>\n",
        "      <td> 459.708986</td>\n",
        "      <td>NaN</td>\n",
        "      <td>NaN</td>\n",
        "      <td>NaN</td>\n",
        "      <td> 662.527345</td>\n",
        "      <td>NaN</td>\n",
        "      <td> 364.464811</td>\n",
        "      <td> 372.818338</td>\n",
        "      <td>NaN</td>\n",
        "    </tr>\n",
        "  </tbody>\n",
        "</table>\n",
        "<p>5 rows \u00d7 260 columns</p>\n",
        "</div>"
       ],
       "metadata": {},
       "output_type": "pyout",
       "prompt_number": 32,
       "text": [
        "gdp pc test  Abkhazia  Afghanistan  Akrotiri and Dhekelia     Albania  \\\n",
        "1800              NaN     472.0535                    NaN  601.215222   \n",
        "1801              NaN     472.0535                    NaN  601.839631   \n",
        "1802              NaN     472.0535                    NaN  602.464688   \n",
        "1803              NaN     472.0535                    NaN  603.090394   \n",
        "1804              NaN     472.0535                    NaN  603.716751   \n",
        "\n",
        "gdp pc test     Algeria  American Samoa      Andorra      Angola    Anguilla  \\\n",
        "1800         766.253664      674.453726  1260.123256  359.932582  775.668711   \n",
        "1801         766.234779      674.453726  1262.214402  359.932582  775.668711   \n",
        "1802         766.215895      674.453726  1264.309018  359.932582  775.668711   \n",
        "1803         766.197011      674.453726  1266.407109  359.932582  775.668711   \n",
        "1804         766.178127      674.453726  1268.508683  359.932582  775.668711   \n",
        "\n",
        "gdp pc test  Antigua and Barbuda  ...    Western Sahara     Vietnam  \\\n",
        "1800                  538.376199  ...               NaN  459.708986   \n",
        "1801                  538.376199  ...               NaN  459.708986   \n",
        "1802                  538.376199  ...               NaN  459.708986   \n",
        "1803                  538.376199  ...               NaN  459.708986   \n",
        "1804                  538.376199  ...               NaN  459.708986   \n",
        "\n",
        "gdp pc test  Virgin Islands (U.S.)  Yemen Arab Republic (Former)  \\\n",
        "1800                           NaN                           NaN   \n",
        "1801                           NaN                           NaN   \n",
        "1802                           NaN                           NaN   \n",
        "1803                           NaN                           NaN   \n",
        "1804                           NaN                           NaN   \n",
        "\n",
        "gdp pc test  Yemen Democratic (Former)  Yemen, Rep.  Yugoslavia      Zambia  \\\n",
        "1800                               NaN   661.902376         NaN  364.464811   \n",
        "1801                               NaN   662.058563         NaN  364.464811   \n",
        "1802                               NaN   662.214787         NaN  364.464811   \n",
        "1803                               NaN   662.371047         NaN  364.464811   \n",
        "1804                               NaN   662.527345         NaN  364.464811   \n",
        "\n",
        "gdp pc test    Zimbabwe  \u00c5land  \n",
        "1800         372.818338    NaN  \n",
        "1801         372.818338    NaN  \n",
        "1802         372.818338    NaN  \n",
        "1803         372.818338    NaN  \n",
        "1804         372.818338    NaN  \n",
        "\n",
        "[5 rows x 260 columns]"
       ]
      }
     ],
     "prompt_number": 32
    },
    {
     "cell_type": "code",
     "collapsed": false,
     "input": [
      "year = 2000\n",
      "income_year = income.loc[year]\n",
      "print income_year.head()"
     ],
     "language": "python",
     "metadata": {},
     "outputs": [
      {
       "output_type": "stream",
       "stream": "stdout",
       "text": [
        "gdp pc test\n",
        "Abkhazia                         NaN\n",
        "Afghanistan               663.909878\n",
        "Akrotiri and Dhekelia            NaN\n",
        "Albania                  4195.210368\n",
        "Algeria                  5098.853564\n",
        "Name: 2000, dtype: float64\n"
       ]
      }
     ],
     "prompt_number": 38
    },
    {
     "cell_type": "code",
     "collapsed": false,
     "input": [
      "%matplotlib inline\n",
      "income_year.hist(bins=100,alpha=0.3,color='k')\n",
      "plt.show()"
     ],
     "language": "python",
     "metadata": {},
     "outputs": [
      {
       "metadata": {},
       "output_type": "display_data",
       "png": "[encoded data removed]",
       "text": [
        "<matplotlib.figure.Figure at 0x10a586f50>"
       ]
      }
     ],
     "prompt_number": 47
    },
    {
     "cell_type": "code",
     "collapsed": false,
     "input": [
      "income_year_df=pd.DataFrame(income_year)\n",
      "income_year_df.head()"
     ],
     "language": "python",
     "metadata": {},
     "outputs": [
      {
       "html": [
        "<div style=\"max-height:1000px;max-width:1500px;overflow:auto;\">\n",
        "<table border=\"1\" class=\"dataframe\">\n",
        "  <thead>\n",
        "    <tr style=\"text-align: right;\">\n",
        "      <th></th>\n",
        "      <th>2000</th>\n",
        "    </tr>\n",
        "    <tr>\n",
        "      <th>gdp pc test</th>\n",
        "      <th></th>\n",
        "    </tr>\n",
        "  </thead>\n",
        "  <tbody>\n",
        "    <tr>\n",
        "      <th>Abkhazia</th>\n",
        "      <td>         NaN</td>\n",
        "    </tr>\n",
        "    <tr>\n",
        "      <th>Afghanistan</th>\n",
        "      <td>  663.909878</td>\n",
        "    </tr>\n",
        "    <tr>\n",
        "      <th>Akrotiri and Dhekelia</th>\n",
        "      <td>         NaN</td>\n",
        "    </tr>\n",
        "    <tr>\n",
        "      <th>Albania</th>\n",
        "      <td> 4195.210368</td>\n",
        "    </tr>\n",
        "    <tr>\n",
        "      <th>Algeria</th>\n",
        "      <td> 5098.853564</td>\n",
        "    </tr>\n",
        "  </tbody>\n",
        "</table>\n",
        "</div>"
       ],
       "metadata": {},
       "output_type": "pyout",
       "prompt_number": 21,
       "text": [
        "                              2000\n",
        "gdp pc test                       \n",
        "Abkhazia                       NaN\n",
        "Afghanistan             663.909878\n",
        "Akrotiri and Dhekelia          NaN\n",
        "Albania                4195.210368\n",
        "Algeria                5098.853564"
       ]
      }
     ],
     "prompt_number": 21
    },
    {
     "cell_type": "code",
     "collapsed": false,
     "input": [],
     "language": "python",
     "metadata": {},
     "outputs": []
    },
    {
     "cell_type": "code",
     "collapsed": false,
     "input": [
      "type(income_year_df)"
     ],
     "language": "python",
     "metadata": {},
     "outputs": [
      {
       "metadata": {},
       "output_type": "pyout",
       "prompt_number": 20,
       "text": [
        "pandas.core.frame.DataFrame"
       ]
      }
     ],
     "prompt_number": 20
    },
    {
     "cell_type": "code",
     "collapsed": false,
     "input": [
      "countries.head()"
     ],
     "language": "python",
     "metadata": {},
     "outputs": [
      {
       "html": [
        "<div style=\"max-height:1000px;max-width:1500px;overflow:auto;\">\n",
        "<table border=\"1\" class=\"dataframe\">\n",
        "  <thead>\n",
        "    <tr style=\"text-align: right;\">\n",
        "      <th></th>\n",
        "      <th>Country</th>\n",
        "      <th>Region</th>\n",
        "    </tr>\n",
        "  </thead>\n",
        "  <tbody>\n",
        "    <tr>\n",
        "      <th>0</th>\n",
        "      <td>  Algeria</td>\n",
        "      <td> AFRICA</td>\n",
        "    </tr>\n",
        "    <tr>\n",
        "      <th>1</th>\n",
        "      <td>   Angola</td>\n",
        "      <td> AFRICA</td>\n",
        "    </tr>\n",
        "    <tr>\n",
        "      <th>2</th>\n",
        "      <td>    Benin</td>\n",
        "      <td> AFRICA</td>\n",
        "    </tr>\n",
        "    <tr>\n",
        "      <th>3</th>\n",
        "      <td> Botswana</td>\n",
        "      <td> AFRICA</td>\n",
        "    </tr>\n",
        "    <tr>\n",
        "      <th>4</th>\n",
        "      <td>  Burkina</td>\n",
        "      <td> AFRICA</td>\n",
        "    </tr>\n",
        "  </tbody>\n",
        "</table>\n",
        "</div>"
       ],
       "metadata": {},
       "output_type": "pyout",
       "prompt_number": 15,
       "text": [
        "    Country  Region\n",
        "0   Algeria  AFRICA\n",
        "1    Angola  AFRICA\n",
        "2     Benin  AFRICA\n",
        "3  Botswana  AFRICA\n",
        "4   Burkina  AFRICA"
       ]
      }
     ],
     "prompt_number": 15
    },
    {
     "cell_type": "code",
     "collapsed": false,
     "input": [
      "income_year_df.reset_index()\n",
      "income_year_df.columns=['Country','Income']\n",
      "countries.columns=['Country','Region']\n",
      "#countries"
     ],
     "language": "python",
     "metadata": {},
     "outputs": [
      {
       "ename": "ValueError",
       "evalue": "Length mismatch: Expected axis has 1 elements, new values have 2 elements",
       "output_type": "pyerr",
       "traceback": [
        "\u001b[0;31m---------------------------------------------------------------------------\u001b[0m\n\u001b[0;31mValueError\u001b[0m                                Traceback (most recent call last)",
        "\u001b[0;32m<ipython-input-24-13e58666e7cc>\u001b[0m in \u001b[0;36m<module>\u001b[0;34m()\u001b[0m\n\u001b[1;32m      1\u001b[0m \u001b[0mincome_year_df\u001b[0m\u001b[0;34m.\u001b[0m\u001b[0mreset_index\u001b[0m\u001b[0;34m(\u001b[0m\u001b[0;34m)\u001b[0m\u001b[0;34m\u001b[0m\u001b[0m\n\u001b[0;32m----> 2\u001b[0;31m \u001b[0mincome_year_df\u001b[0m\u001b[0;34m.\u001b[0m\u001b[0mcolumns\u001b[0m\u001b[0;34m=\u001b[0m\u001b[0;34m[\u001b[0m\u001b[0;34m'Country'\u001b[0m\u001b[0;34m,\u001b[0m\u001b[0;34m'Income'\u001b[0m\u001b[0;34m]\u001b[0m\u001b[0;34m\u001b[0m\u001b[0m\n\u001b[0m\u001b[1;32m      3\u001b[0m \u001b[0mcountries\u001b[0m\u001b[0;34m.\u001b[0m\u001b[0mcolumns\u001b[0m\u001b[0;34m=\u001b[0m\u001b[0;34m[\u001b[0m\u001b[0;34m'Country'\u001b[0m\u001b[0;34m,\u001b[0m\u001b[0;34m'Region'\u001b[0m\u001b[0;34m]\u001b[0m\u001b[0;34m\u001b[0m\u001b[0m\n\u001b[1;32m      4\u001b[0m \u001b[0;31m#countries\u001b[0m\u001b[0;34m\u001b[0m\u001b[0;34m\u001b[0m\u001b[0m\n",
        "\u001b[0;32m/Library/Python/2.7/site-packages/pandas/core/generic.pyc\u001b[0m in \u001b[0;36m__setattr__\u001b[0;34m(self, name, value)\u001b[0m\n\u001b[1;32m   1940\u001b[0m         This allows simpler access to columns for interactive use.\"\"\"\n\u001b[1;32m   1941\u001b[0m         \u001b[0;32mif\u001b[0m \u001b[0mname\u001b[0m \u001b[0;32min\u001b[0m \u001b[0mself\u001b[0m\u001b[0;34m.\u001b[0m\u001b[0m_internal_names_set\u001b[0m\u001b[0;34m:\u001b[0m\u001b[0;34m\u001b[0m\u001b[0m\n\u001b[0;32m-> 1942\u001b[0;31m             \u001b[0mobject\u001b[0m\u001b[0;34m.\u001b[0m\u001b[0m__setattr__\u001b[0m\u001b[0;34m(\u001b[0m\u001b[0mself\u001b[0m\u001b[0;34m,\u001b[0m \u001b[0mname\u001b[0m\u001b[0;34m,\u001b[0m \u001b[0mvalue\u001b[0m\u001b[0;34m)\u001b[0m\u001b[0;34m\u001b[0m\u001b[0m\n\u001b[0m\u001b[1;32m   1943\u001b[0m         \u001b[0;32melif\u001b[0m \u001b[0mname\u001b[0m \u001b[0;32min\u001b[0m \u001b[0mself\u001b[0m\u001b[0;34m.\u001b[0m\u001b[0m_metadata\u001b[0m\u001b[0;34m:\u001b[0m\u001b[0;34m\u001b[0m\u001b[0m\n\u001b[1;32m   1944\u001b[0m             \u001b[0;32mreturn\u001b[0m \u001b[0mobject\u001b[0m\u001b[0;34m.\u001b[0m\u001b[0m__setattr__\u001b[0m\u001b[0;34m(\u001b[0m\u001b[0mself\u001b[0m\u001b[0;34m,\u001b[0m \u001b[0mname\u001b[0m\u001b[0;34m,\u001b[0m \u001b[0mvalue\u001b[0m\u001b[0;34m)\u001b[0m\u001b[0;34m\u001b[0m\u001b[0m\n",
        "\u001b[0;32m/Library/Python/2.7/site-packages/pandas/lib.so\u001b[0m in \u001b[0;36mpandas.lib.AxisProperty.__set__ (pandas/lib.c:41103)\u001b[0;34m()\u001b[0m\n",
        "\u001b[0;32m/Library/Python/2.7/site-packages/pandas/core/generic.pyc\u001b[0m in \u001b[0;36m_set_axis\u001b[0;34m(self, axis, labels)\u001b[0m\n\u001b[1;32m    398\u001b[0m \u001b[0;34m\u001b[0m\u001b[0m\n\u001b[1;32m    399\u001b[0m     \u001b[0;32mdef\u001b[0m \u001b[0m_set_axis\u001b[0m\u001b[0;34m(\u001b[0m\u001b[0mself\u001b[0m\u001b[0;34m,\u001b[0m \u001b[0maxis\u001b[0m\u001b[0;34m,\u001b[0m \u001b[0mlabels\u001b[0m\u001b[0;34m)\u001b[0m\u001b[0;34m:\u001b[0m\u001b[0;34m\u001b[0m\u001b[0m\n\u001b[0;32m--> 400\u001b[0;31m         \u001b[0mself\u001b[0m\u001b[0;34m.\u001b[0m\u001b[0m_data\u001b[0m\u001b[0;34m.\u001b[0m\u001b[0mset_axis\u001b[0m\u001b[0;34m(\u001b[0m\u001b[0maxis\u001b[0m\u001b[0;34m,\u001b[0m \u001b[0mlabels\u001b[0m\u001b[0;34m)\u001b[0m\u001b[0;34m\u001b[0m\u001b[0m\n\u001b[0m\u001b[1;32m    401\u001b[0m         \u001b[0mself\u001b[0m\u001b[0;34m.\u001b[0m\u001b[0m_clear_item_cache\u001b[0m\u001b[0;34m(\u001b[0m\u001b[0;34m)\u001b[0m\u001b[0;34m\u001b[0m\u001b[0m\n\u001b[1;32m    402\u001b[0m \u001b[0;34m\u001b[0m\u001b[0m\n",
        "\u001b[0;32m/Library/Python/2.7/site-packages/pandas/core/internals.pyc\u001b[0m in \u001b[0;36mset_axis\u001b[0;34m(self, axis, new_labels)\u001b[0m\n\u001b[1;32m   2176\u001b[0m         \u001b[0;32mif\u001b[0m \u001b[0mnew_len\u001b[0m \u001b[0;34m!=\u001b[0m \u001b[0mold_len\u001b[0m\u001b[0;34m:\u001b[0m\u001b[0;34m\u001b[0m\u001b[0m\n\u001b[1;32m   2177\u001b[0m             raise ValueError('Length mismatch: Expected axis has %d elements, '\n\u001b[0;32m-> 2178\u001b[0;31m                              'new values have %d elements' % (old_len, new_len))\n\u001b[0m\u001b[1;32m   2179\u001b[0m \u001b[0;34m\u001b[0m\u001b[0m\n\u001b[1;32m   2180\u001b[0m         \u001b[0mself\u001b[0m\u001b[0;34m.\u001b[0m\u001b[0maxes\u001b[0m\u001b[0;34m[\u001b[0m\u001b[0maxis\u001b[0m\u001b[0;34m]\u001b[0m \u001b[0;34m=\u001b[0m \u001b[0mnew_labels\u001b[0m\u001b[0;34m\u001b[0m\u001b[0m\n",
        "\u001b[0;31mValueError\u001b[0m: Length mismatch: Expected axis has 1 elements, new values have 2 elements"
       ]
      }
     ],
     "prompt_number": 24
    },
    {
     "cell_type": "code",
     "collapsed": false,
     "input": [
      "print income_year.columns\n",
      "print countries.columns\n"
     ],
     "language": "python",
     "metadata": {},
     "outputs": [
      {
       "output_type": "stream",
       "stream": "stdout",
       "text": [
        "['Country', 'Income']\n",
        "Index([u'Country', u'Region'], dtype='object')\n"
       ]
      }
     ],
     "prompt_number": 23
    },
    {
     "cell_type": "code",
     "collapsed": false,
     "input": [
      "type(pd.DataFrame(income_year))\n",
      "income_year_DF = pd.DataFrame(income_year)\n",
      "income_year_DF.reset_index()\n",
      "#income_year_DF.columns = ['Country','Income']\n",
      "income_year_DF.head()"
     ],
     "language": "python",
     "metadata": {},
     "outputs": [
      {
       "html": [
        "<div style=\"max-height:1000px;max-width:1500px;overflow:auto;\">\n",
        "<table border=\"1\" class=\"dataframe\">\n",
        "  <thead>\n",
        "    <tr style=\"text-align: right;\">\n",
        "      <th></th>\n",
        "      <th>2000</th>\n",
        "    </tr>\n",
        "    <tr>\n",
        "      <th>gdp pc test</th>\n",
        "      <th></th>\n",
        "    </tr>\n",
        "  </thead>\n",
        "  <tbody>\n",
        "    <tr>\n",
        "      <th>Abkhazia</th>\n",
        "      <td>         NaN</td>\n",
        "    </tr>\n",
        "    <tr>\n",
        "      <th>Afghanistan</th>\n",
        "      <td>  663.909878</td>\n",
        "    </tr>\n",
        "    <tr>\n",
        "      <th>Akrotiri and Dhekelia</th>\n",
        "      <td>         NaN</td>\n",
        "    </tr>\n",
        "    <tr>\n",
        "      <th>Albania</th>\n",
        "      <td> 4195.210368</td>\n",
        "    </tr>\n",
        "    <tr>\n",
        "      <th>Algeria</th>\n",
        "      <td> 5098.853564</td>\n",
        "    </tr>\n",
        "  </tbody>\n",
        "</table>\n",
        "</div>"
       ],
       "metadata": {},
       "output_type": "pyout",
       "prompt_number": 11,
       "text": [
        "                              2000\n",
        "gdp pc test                       \n",
        "Abkhazia                       NaN\n",
        "Afghanistan             663.909878\n",
        "Akrotiri and Dhekelia          NaN\n",
        "Albania                4195.210368\n",
        "Algeria                5098.853564"
       ]
      }
     ],
     "prompt_number": 11
    },
    {
     "cell_type": "code",
     "collapsed": false,
     "input": [
      "type(countries)"
     ],
     "language": "python",
     "metadata": {},
     "outputs": [
      {
       "metadata": {},
       "output_type": "pyout",
       "prompt_number": 12,
       "text": [
        "pandas.core.frame.DataFrame"
       ]
      }
     ],
     "prompt_number": 12
    },
    {
     "cell_type": "code",
     "collapsed": false,
     "input": [],
     "language": "python",
     "metadata": {},
     "outputs": []
    }
   ],
   "metadata": {}
  }
 ]
}