{
 "metadata": {
  "name": "",
  "signature": "sha256:3b00a030e5874a155af8651d7328a5f448af089f268a773301f139f087f088a9"
 },
 "nbformat": 3,
 "nbformat_minor": 0,
 "worksheets": [
  {
   "cells": [
    {
     "cell_type": "code",
     "collapsed": false,
     "input": [
      "import numpy as np\n",
      "import pandas as pd\n",
      "import matplotlib.pyplot as plt"
     ],
     "language": "python",
     "metadata": {},
     "outputs": [],
     "prompt_number": 1
    },
    {
     "cell_type": "code",
     "collapsed": false,
     "input": [
      "countries = pd.read_csv(\"../countries.csv\")"
     ],
     "language": "python",
     "metadata": {},
     "outputs": [],
     "prompt_number": 2
    },
    {
     "cell_type": "code",
     "collapsed": false,
     "input": [
      "income = pd.read_excel(\"indicator gapminder gdp_per_capita_ppp.xlsx\",index_col=u\"gdp pc test\")\n",
      "income = income.T"
     ],
     "language": "python",
     "metadata": {},
     "outputs": [],
     "prompt_number": 3
    },
    {
     "cell_type": "code",
     "collapsed": false,
     "input": [
      "income.head()"
     ],
     "language": "python",
     "metadata": {},
     "outputs": [
      {
       "html": [
        "<div style=\"max-height:1000px;max-width:1500px;overflow:auto;\">\n",
        "<table border=\"1\" class=\"dataframe\">\n",
        "  <thead>\n",
        "    <tr style=\"text-align: right;\">\n",
        "      <th>gdp pc test</th>\n",
        "      <th>Abkhazia</th>\n",
        "      <th>Afghanistan</th>\n",
        "      <th>Akrotiri and Dhekelia</th>\n",
        "      <th>Albania</th>\n",
        "      <th>Algeria</th>\n",
        "      <th>American Samoa</th>\n",
        "      <th>Andorra</th>\n",
        "      <th>Angola</th>\n",
        "      <th>Anguilla</th>\n",
        "      <th>Antigua and Barbuda</th>\n",
        "      <th>...</th>\n",
        "      <th>Western Sahara</th>\n",
        "      <th>Vietnam</th>\n",
        "      <th>Virgin Islands (U.S.)</th>\n",
        "      <th>Yemen Arab Republic (Former)</th>\n",
        "      <th>Yemen Democratic (Former)</th>\n",
        "      <th>Yemen, Rep.</th>\n",
        "      <th>Yugoslavia</th>\n",
        "      <th>Zambia</th>\n",
        "      <th>Zimbabwe</th>\n",
        "      <th>\u00c5land</th>\n",
        "    </tr>\n",
        "  </thead>\n",
        "  <tbody>\n",
        "    <tr>\n",
        "      <th>1800</th>\n",
        "      <td>NaN</td>\n",
        "      <td> 472.0535</td>\n",
        "      <td>NaN</td>\n",
        "      <td> 601.215222</td>\n",
        "      <td> 766.253664</td>\n",
        "      <td> 674.453726</td>\n",
        "      <td> 1260.123256</td>\n",
        "      <td> 359.932582</td>\n",
        "      <td> 775.668711</td>\n",
        "      <td> 538.376199</td>\n",
        "      <td>...</td>\n",
        "      <td>NaN</td>\n",
        "      <td> 459.708986</td>\n",
        "      <td>NaN</td>\n",
        "      <td>NaN</td>\n",
        "      <td>NaN</td>\n",
        "      <td> 661.902376</td>\n",
        "      <td>NaN</td>\n",
        "      <td> 364.464811</td>\n",
        "      <td> 372.818338</td>\n",
        "      <td>NaN</td>\n",
        "    </tr>\n",
        "    <tr>\n",
        "      <th>1801</th>\n",
        "      <td>NaN</td>\n",
        "      <td> 472.0535</td>\n",
        "      <td>NaN</td>\n",
        "      <td> 601.839631</td>\n",
        "      <td> 766.234779</td>\n",
        "      <td> 674.453726</td>\n",
        "      <td> 1262.214402</td>\n",
        "      <td> 359.932582</td>\n",
        "      <td> 775.668711</td>\n",
        "      <td> 538.376199</td>\n",
        "      <td>...</td>\n",
        "      <td>NaN</td>\n",
        "      <td> 459.708986</td>\n",
        "      <td>NaN</td>\n",
        "      <td>NaN</td>\n",
        "      <td>NaN</td>\n",
        "      <td> 662.058563</td>\n",
        "      <td>NaN</td>\n",
        "      <td> 364.464811</td>\n",
        "      <td> 372.818338</td>\n",
        "      <td>NaN</td>\n",
        "    </tr>\n",
        "    <tr>\n",
        "      <th>1802</th>\n",
        "      <td>NaN</td>\n",
        "      <td> 472.0535</td>\n",
        "      <td>NaN</td>\n",
        "      <td> 602.464688</td>\n",
        "      <td> 766.215895</td>\n",
        "      <td> 674.453726</td>\n",
        "      <td> 1264.309018</td>\n",
        "      <td> 359.932582</td>\n",
        "      <td> 775.668711</td>\n",
        "      <td> 538.376199</td>\n",
        "      <td>...</td>\n",
        "      <td>NaN</td>\n",
        "      <td> 459.708986</td>\n",
        "      <td>NaN</td>\n",
        "      <td>NaN</td>\n",
        "      <td>NaN</td>\n",
        "      <td> 662.214787</td>\n",
        "      <td>NaN</td>\n",
        "      <td> 364.464811</td>\n",
        "      <td> 372.818338</td>\n",
        "      <td>NaN</td>\n",
        "    </tr>\n",
        "    <tr>\n",
        "      <th>1803</th>\n",
        "      <td>NaN</td>\n",
        "      <td> 472.0535</td>\n",
        "      <td>NaN</td>\n",
        "      <td> 603.090394</td>\n",
        "      <td> 766.197011</td>\n",
        "      <td> 674.453726</td>\n",
        "      <td> 1266.407109</td>\n",
        "      <td> 359.932582</td>\n",
        "      <td> 775.668711</td>\n",
        "      <td> 538.376199</td>\n",
        "      <td>...</td>\n",
        "      <td>NaN</td>\n",
        "      <td> 459.708986</td>\n",
        "      <td>NaN</td>\n",
        "      <td>NaN</td>\n",
        "      <td>NaN</td>\n",
        "      <td> 662.371047</td>\n",
        "      <td>NaN</td>\n",
        "      <td> 364.464811</td>\n",
        "      <td> 372.818338</td>\n",
        "      <td>NaN</td>\n",
        "    </tr>\n",
        "    <tr>\n",
        "      <th>1804</th>\n",
        "      <td>NaN</td>\n",
        "      <td> 472.0535</td>\n",
        "      <td>NaN</td>\n",
        "      <td> 603.716751</td>\n",
        "      <td> 766.178127</td>\n",
        "      <td> 674.453726</td>\n",
        "      <td> 1268.508683</td>\n",
        "      <td> 359.932582</td>\n",
        "      <td> 775.668711</td>\n",
        "      <td> 538.376199</td>\n",
        "      <td>...</td>\n",
        "      <td>NaN</td>\n",
        "      <td> 459.708986</td>\n",
        "      <td>NaN</td>\n",
        "      <td>NaN</td>\n",
        "      <td>NaN</td>\n",
        "      <td> 662.527345</td>\n",
        "      <td>NaN</td>\n",
        "      <td> 364.464811</td>\n",
        "      <td> 372.818338</td>\n",
        "      <td>NaN</td>\n",
        "    </tr>\n",
        "  </tbody>\n",
        "</table>\n",
        "<p>5 rows \u00d7 260 columns</p>\n",
        "</div>"
       ],
       "metadata": {},
       "output_type": "pyout",
       "prompt_number": 32,
       "text": [
        "gdp pc test  Abkhazia  Afghanistan  Akrotiri and Dhekelia     Albania  \\\n",
        "1800              NaN     472.0535                    NaN  601.215222   \n",
        "1801              NaN     472.0535                    NaN  601.839631   \n",
        "1802              NaN     472.0535                    NaN  602.464688   \n",
        "1803              NaN     472.0535                    NaN  603.090394   \n",
        "1804              NaN     472.0535                    NaN  603.716751   \n",
        "\n",
        "gdp pc test     Algeria  American Samoa      Andorra      Angola    Anguilla  \\\n",
        "1800         766.253664      674.453726  1260.123256  359.932582  775.668711   \n",
        "1801         766.234779      674.453726  1262.214402  359.932582  775.668711   \n",
        "1802         766.215895      674.453726  1264.309018  359.932582  775.668711   \n",
        "1803         766.197011      674.453726  1266.407109  359.932582  775.668711   \n",
        "1804         766.178127      674.453726  1268.508683  359.932582  775.668711   \n",
        "\n",
        "gdp pc test  Antigua and Barbuda  ...    Western Sahara     Vietnam  \\\n",
        "1800                  538.376199  ...               NaN  459.708986   \n",
        "1801                  538.376199  ...               NaN  459.708986   \n",
        "1802                  538.376199  ...               NaN  459.708986   \n",
        "1803                  538.376199  ...               NaN  459.708986   \n",
        "1804                  538.376199  ...               NaN  459.708986   \n",
        "\n",
        "gdp pc test  Virgin Islands (U.S.)  Yemen Arab Republic (Former)  \\\n",
        "1800                           NaN                           NaN   \n",
        "1801                           NaN                           NaN   \n",
        "1802                           NaN                           NaN   \n",
        "1803                           NaN                           NaN   \n",
        "1804                           NaN                           NaN   \n",
        "\n",
        "gdp pc test  Yemen Democratic (Former)  Yemen, Rep.  Yugoslavia      Zambia  \\\n",
        "1800                               NaN   661.902376         NaN  364.464811   \n",
        "1801                               NaN   662.058563         NaN  364.464811   \n",
        "1802                               NaN   662.214787         NaN  364.464811   \n",
        "1803                               NaN   662.371047         NaN  364.464811   \n",
        "1804                               NaN   662.527345         NaN  364.464811   \n",
        "\n",
        "gdp pc test    Zimbabwe  \u00c5land  \n",
        "1800         372.818338    NaN  \n",
        "1801         372.818338    NaN  \n",
        "1802         372.818338    NaN  \n",
        "1803         372.818338    NaN  \n",
        "1804         372.818338    NaN  \n",
        "\n",
        "[5 rows x 260 columns]"
       ]
      }
     ],
     "prompt_number": 32
    },
    {
     "cell_type": "code",
     "collapsed": false,
     "input": [
      "year = 2000\n",
      "income_year = income.loc[year]\n",
      "print income_year.head()"
     ],
     "language": "python",
     "metadata": {},
     "outputs": [
      {
       "output_type": "stream",
       "stream": "stdout",
       "text": [
        "gdp pc test\n",
        "Abkhazia                         NaN\n",
        "Afghanistan               663.909878\n",
        "Akrotiri and Dhekelia            NaN\n",
        "Albania                  4195.210368\n",
        "Algeria                  5098.853564\n",
        "Name: 2000, dtype: float64\n"
       ]
      }
     ],
     "prompt_number": 4
    },
    {
     "cell_type": "code",
     "collapsed": false,
     "input": [
      "%matplotlib inline\n",
      "income_year.hist(bins=100,alpha=0.3,color='k')\n",
      "plt.show()"
     ],
     "language": "python",
     "metadata": {},
     "outputs": [
      {
       "metadata": {},
       "output_type": "display_data",
       "png": "[encoded data removed]",
       "text": [
        "<matplotlib.figure.Figure at 0x10cdd8190>"
       ]
      }
     ],
     "prompt_number": 167
    },
    {
     "cell_type": "markdown",
     "metadata": {},
     "source": [
      " merge income_year and countries to three columns :Country  Region Income\n",
      " Write a function called merge_by_year(year) to merge the countries and income data sets for any given year. The result should\n",
      " be a DataFrame with three columns titled 'Country', 'Region', and \u2018Income\u2019."
     ]
    },
    {
     "cell_type": "code",
     "collapsed": false,
     "input": [
      "income_year_df=pd.DataFrame(income_year)\n",
      "income_year_reset = income_year_df.reset_index()\n",
      "income_year_reset.columns"
     ],
     "language": "python",
     "metadata": {},
     "outputs": [
      {
       "metadata": {},
       "output_type": "pyout",
       "prompt_number": 64,
       "text": [
        "Index([u'gdp pc test', 2000], dtype='object')"
       ]
      }
     ],
     "prompt_number": 64
    },
    {
     "cell_type": "code",
     "collapsed": false,
     "input": [
      "countries.head()\n",
      "income_year_reset.columns=['Country','Income']\n",
      "countries.columns=['Country','Region']"
     ],
     "language": "python",
     "metadata": {},
     "outputs": [],
     "prompt_number": 66
    },
    {
     "cell_type": "code",
     "collapsed": false,
     "input": [
      "print income_year_reset.columns\n",
      "print countries.columns\n"
     ],
     "language": "python",
     "metadata": {},
     "outputs": [
      {
       "output_type": "stream",
       "stream": "stdout",
       "text": [
        "Index([u'Country', u'Income'], dtype='object')\n",
        "Index([u'Country', u'Region'], dtype='object')\n"
       ]
      }
     ],
     "prompt_number": 68
    },
    {
     "cell_type": "code",
     "collapsed": false,
     "input": [
      "comb = pd.merge(countries,income_year_reset,on='Country',how='outer')"
     ],
     "language": "python",
     "metadata": {},
     "outputs": [],
     "prompt_number": 72
    },
    {
     "cell_type": "code",
     "collapsed": false,
     "input": [
      "print comb.shape\n",
      "print countries.shape\n",
      "print income_year_reset.shape"
     ],
     "language": "python",
     "metadata": {},
     "outputs": [
      {
       "output_type": "stream",
       "stream": "stdout",
       "text": [
        "(277, 3)\n",
        "(194, 2)\n",
        "(260, 2)\n"
       ]
      }
     ],
     "prompt_number": 73
    },
    {
     "cell_type": "code",
     "collapsed": false,
     "input": [
      "def merge_by_year(year):\n",
      "    income_year = income.loc[year]\n",
      "    income_year_df=pd.DataFrame(income_year)\n",
      "    income_year_reset = income_year_df.reset_index()\n",
      "    income_year_reset.columns=['Country','Income']\n",
      "    comb = pd.merge(countries,income_year_reset,on='Country',how='outer')\n",
      "    return comb"
     ],
     "language": "python",
     "metadata": {},
     "outputs": [],
     "prompt_number": 5
    },
    {
     "cell_type": "markdown",
     "metadata": {},
     "source": [
      "Use exploratory data analysis tools such as histograms and boxplots to explore\n",
      "the distribution of the income per person by region data set from question 4 for a given year.\n",
      "Submission Instructions Describe how these change through the recent years.!"
     ]
    },
    {
     "cell_type": "code",
     "collapsed": false,
     "input": [
      "year = 2000\n",
      "data_year = merge_by_year(year)\n",
      "region_group = data_year.groupby('Region')"
     ],
     "language": "python",
     "metadata": {},
     "outputs": [],
     "prompt_number": 10
    },
    {
     "cell_type": "code",
     "collapsed": false,
     "input": [
      "region_group.mean().ix['ASIA','Income']"
     ],
     "language": "python",
     "metadata": {},
     "outputs": [
      {
       "metadata": {},
       "output_type": "pyout",
       "prompt_number": 25,
       "text": [
        "10954.9003082785"
       ]
      }
     ],
     "prompt_number": 25
    },
    {
     "cell_type": "code",
     "collapsed": false,
     "input": [
      "mean_dict = {}\n",
      "year_start = 2000\n",
      "for year in range(year_start,2012):\n",
      "    year_data = merge_by_year(year)\n",
      "    region_group = year_data.groupby('Region')\n",
      "    for name,groups in region_group:\n",
      "        mean_value = region_group.mean().ix[name,'Income']\n",
      "        if (mean_dict.has_key(name)):\n",
      "            mean_dict[name].append(mean_value)\n",
      "        else:\n",
      "            mean_dict[name] = [mean_value]\n"
     ],
     "language": "python",
     "metadata": {},
     "outputs": [],
     "prompt_number": 48
    },
    {
     "cell_type": "code",
     "collapsed": false,
     "input": [
      "%matplotlib inline\n",
      "color_bar='bgrcmyk'\n",
      "k=0\n",
      "fig=plt.figure(figsize=(10,8))\n",
      "for name,groups in region_group:\n",
      "    colors = color_bar[k]\n",
      "    k+=1\n",
      "    plt.plot(range(year_start,2012),mean_dict[name],color=colors,label=name)\n",
      "    plt.legend(loc=2)\n",
      "    plt.xlabel('year')\n",
      "    plt.ylabel('Mean Income')\n",
      "    plt.title('Income trend by region')\n",
      "plt.show()"
     ],
     "language": "python",
     "metadata": {},
     "outputs": [
      {
       "metadata": {},
       "output_type": "display_data",
       "png": "[encoded data removed]",
       "text": [
        "<matplotlib.figure.Figure at 0x1146fa290>"
       ]
      }
     ],
     "prompt_number": 49
    },
    {
     "cell_type": "code",
     "collapsed": false,
     "input": [],
     "language": "python",
     "metadata": {},
     "outputs": [
      {
       "ename": "AttributeError",
       "evalue": "'module' object has no attribute 'mean'",
       "output_type": "pyerr",
       "traceback": [
        "\u001b[0;31m---------------------------------------------------------------------------\u001b[0m\n\u001b[0;31mAttributeError\u001b[0m                            Traceback (most recent call last)",
        "\u001b[0;32m<ipython-input-40-264b5e1c5f5e>\u001b[0m in \u001b[0;36m<module>\u001b[0;34m()\u001b[0m\n\u001b[0;32m----> 1\u001b[0;31m \u001b[0ma\u001b[0m \u001b[0;34m=\u001b[0m \u001b[0mpd\u001b[0m\u001b[0;34m.\u001b[0m\u001b[0mmean\u001b[0m\u001b[0;34m\u001b[0m\u001b[0m\n\u001b[0m\u001b[1;32m      2\u001b[0m \u001b[0;32mprint\u001b[0m \u001b[0ma\u001b[0m\u001b[0;34m\u001b[0m\u001b[0m\n",
        "\u001b[0;31mAttributeError\u001b[0m: 'module' object has no attribute 'mean'"
       ]
      }
     ],
     "prompt_number": 40
    },
    {
     "cell_type": "code",
     "collapsed": false,
     "input": [],
     "language": "python",
     "metadata": {},
     "outputs": []
    }
   ],
   "metadata": {}
  }
 ]
}